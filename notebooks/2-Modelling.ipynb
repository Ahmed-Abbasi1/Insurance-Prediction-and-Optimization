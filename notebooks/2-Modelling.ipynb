{
 "cells": [
  {
   "cell_type": "code",
   "execution_count": 1,
   "id": "71727355",
   "metadata": {},
   "outputs": [],
   "source": [
    "import sys\n",
    "import os\n",
    "sys.path.append(os.path.abspath(\"../\"))"
   ]
  },
  {
   "cell_type": "code",
   "execution_count": 2,
   "id": "ccfe467b",
   "metadata": {},
   "outputs": [
    {
     "name": "stdout",
     "output_type": "stream",
     "text": [
      "Train shape: (1070, 11)\n",
      "Test shape: (268, 11)\n"
     ]
    }
   ],
   "source": [
    "from src.data_loader import load_data, preprocess_data, get_train_test_split\n",
    "\n",
    "df = load_data()\n",
    "X, y = preprocess_data(df, scale=True)\n",
    "X_train, X_test, y_train, y_test = get_train_test_split(X, y)\n",
    "\n",
    "print(\"Train shape:\", X_train.shape)\n",
    "print(\"Test shape:\", X_test.shape)"
   ]
  },
  {
   "cell_type": "code",
   "execution_count": 3,
   "id": "025e2908",
   "metadata": {},
   "outputs": [
    {
     "name": "stdout",
     "output_type": "stream",
     "text": [
      "              Model         RMSE          MAE        R²\n",
      "4           XGBoost  4450.714974  2453.570977  0.872406\n",
      "3      RandomForest  4614.435054  2569.891760  0.862846\n",
      "0  LinearRegression  5856.223810  4344.171341  0.779094\n",
      "2             Lasso  5856.226144  4344.120750  0.779094\n",
      "1             Ridge  5856.530687  4344.436539  0.779071\n"
     ]
    }
   ],
   "source": [
    "from src.model import train_models, evaluate_models\n",
    "\n",
    "models = train_models(X_train, y_train)\n",
    "results = evaluate_models(models, X_test, y_test)\n",
    "\n",
    "print(results)\n"
   ]
  }
 ],
 "metadata": {
  "kernelspec": {
   "display_name": "healthvenv (3.11.0)",
   "language": "python",
   "name": "python3"
  },
  "language_info": {
   "codemirror_mode": {
    "name": "ipython",
    "version": 3
   },
   "file_extension": ".py",
   "mimetype": "text/x-python",
   "name": "python",
   "nbconvert_exporter": "python",
   "pygments_lexer": "ipython3",
   "version": "3.11.0"
  }
 },
 "nbformat": 4,
 "nbformat_minor": 5
}
